{
 "cells": [
  {
   "cell_type": "code",
   "execution_count": 4,
   "metadata": {},
   "outputs": [],
   "source": [
    "import pandas as pd\n",
    "import numpy as np\n",
    "from datetime import datetime"
   ]
  },
  {
   "cell_type": "code",
   "execution_count": 106,
   "metadata": {},
   "outputs": [],
   "source": [
    "from sklearn.preprocessing import MinMaxScaler"
   ]
  },
  {
   "cell_type": "code",
   "execution_count": 83,
   "metadata": {},
   "outputs": [],
   "source": [
    "import tensorflow as tf\n",
    "from tensorflow.keras.models import load_model"
   ]
  },
  {
   "cell_type": "code",
   "execution_count": 72,
   "metadata": {},
   "outputs": [
    {
     "data": {
      "text/html": [
       "<div>\n",
       "<style scoped>\n",
       "    .dataframe tbody tr th:only-of-type {\n",
       "        vertical-align: middle;\n",
       "    }\n",
       "\n",
       "    .dataframe tbody tr th {\n",
       "        vertical-align: top;\n",
       "    }\n",
       "\n",
       "    .dataframe thead th {\n",
       "        text-align: right;\n",
       "    }\n",
       "</style>\n",
       "<table border=\"1\" class=\"dataframe\">\n",
       "  <thead>\n",
       "    <tr style=\"text-align: right;\">\n",
       "      <th></th>\n",
       "      <th>scenario_set</th>\n",
       "      <th>DATE (MM/DD)</th>\n",
       "      <th>MST</th>\n",
       "      <th>Global CMP22 (vent/cor) [W/m^2]</th>\n",
       "      <th>Direct sNIP [W/m^2]</th>\n",
       "      <th>Azimuth Angle [degrees]</th>\n",
       "      <th>Tower Dry Bulb Temp [deg C]</th>\n",
       "      <th>Tower Wet Bulb Temp [deg C]</th>\n",
       "      <th>Tower Dew Point Temp [deg C]</th>\n",
       "      <th>Tower RH [%]</th>\n",
       "      <th>Total Cloud Cover [%]</th>\n",
       "      <th>Peak Wind Speed @ 6ft [m/s]</th>\n",
       "      <th>Avg Wind Direction @ 6ft [deg from N]</th>\n",
       "      <th>Station Pressure [mBar]</th>\n",
       "      <th>Precipitation (Accumulated) [mm]</th>\n",
       "      <th>Snow Depth [cm]</th>\n",
       "      <th>Moisture</th>\n",
       "      <th>Albedo (CMP11)</th>\n",
       "    </tr>\n",
       "  </thead>\n",
       "  <tbody>\n",
       "    <tr>\n",
       "      <th>0</th>\n",
       "      <td>0</td>\n",
       "      <td>1-Dec</td>\n",
       "      <td>7:50</td>\n",
       "      <td>54.3644</td>\n",
       "      <td>464.075</td>\n",
       "      <td>122.61168</td>\n",
       "      <td>-0.7910</td>\n",
       "      <td>-5.3070</td>\n",
       "      <td>-15.6070</td>\n",
       "      <td>27.230</td>\n",
       "      <td>3.0</td>\n",
       "      <td>0.95</td>\n",
       "      <td>243.70</td>\n",
       "      <td>810.312</td>\n",
       "      <td>0.0</td>\n",
       "      <td>0.080</td>\n",
       "      <td>0.0</td>\n",
       "      <td>0.4190</td>\n",
       "    </tr>\n",
       "    <tr>\n",
       "      <th>1</th>\n",
       "      <td>0</td>\n",
       "      <td>1-Dec</td>\n",
       "      <td>7:51</td>\n",
       "      <td>56.6827</td>\n",
       "      <td>472.765</td>\n",
       "      <td>122.77874</td>\n",
       "      <td>-0.6920</td>\n",
       "      <td>-5.1580</td>\n",
       "      <td>-15.6580</td>\n",
       "      <td>26.880</td>\n",
       "      <td>2.0</td>\n",
       "      <td>0.00</td>\n",
       "      <td>0.00</td>\n",
       "      <td>810.301</td>\n",
       "      <td>0.0</td>\n",
       "      <td>0.051</td>\n",
       "      <td>0.0</td>\n",
       "      <td>0.4066</td>\n",
       "    </tr>\n",
       "    <tr>\n",
       "      <th>2</th>\n",
       "      <td>0</td>\n",
       "      <td>1-Dec</td>\n",
       "      <td>7:52</td>\n",
       "      <td>57.8298</td>\n",
       "      <td>477.189</td>\n",
       "      <td>122.86244</td>\n",
       "      <td>-0.6315</td>\n",
       "      <td>-5.1465</td>\n",
       "      <td>-15.6465</td>\n",
       "      <td>26.775</td>\n",
       "      <td>2.0</td>\n",
       "      <td>0.00</td>\n",
       "      <td>0.00</td>\n",
       "      <td>810.295</td>\n",
       "      <td>0.0</td>\n",
       "      <td>0.034</td>\n",
       "      <td>0.0</td>\n",
       "      <td>0.3995</td>\n",
       "    </tr>\n",
       "    <tr>\n",
       "      <th>3</th>\n",
       "      <td>0</td>\n",
       "      <td>1-Dec</td>\n",
       "      <td>7:53</td>\n",
       "      <td>58.9769</td>\n",
       "      <td>481.613</td>\n",
       "      <td>122.94614</td>\n",
       "      <td>-0.5710</td>\n",
       "      <td>-5.1350</td>\n",
       "      <td>-15.6350</td>\n",
       "      <td>26.670</td>\n",
       "      <td>2.0</td>\n",
       "      <td>0.00</td>\n",
       "      <td>0.00</td>\n",
       "      <td>810.289</td>\n",
       "      <td>0.0</td>\n",
       "      <td>0.017</td>\n",
       "      <td>0.0</td>\n",
       "      <td>0.3924</td>\n",
       "    </tr>\n",
       "    <tr>\n",
       "      <th>4</th>\n",
       "      <td>0</td>\n",
       "      <td>1-Dec</td>\n",
       "      <td>7:54</td>\n",
       "      <td>61.2684</td>\n",
       "      <td>489.245</td>\n",
       "      <td>123.11386</td>\n",
       "      <td>-0.4860</td>\n",
       "      <td>-5.1240</td>\n",
       "      <td>-15.6240</td>\n",
       "      <td>26.510</td>\n",
       "      <td>2.0</td>\n",
       "      <td>0.00</td>\n",
       "      <td>0.00</td>\n",
       "      <td>810.307</td>\n",
       "      <td>0.0</td>\n",
       "      <td>-0.003</td>\n",
       "      <td>0.0</td>\n",
       "      <td>0.3778</td>\n",
       "    </tr>\n",
       "    <tr>\n",
       "      <th>...</th>\n",
       "      <td>...</td>\n",
       "      <td>...</td>\n",
       "      <td>...</td>\n",
       "      <td>...</td>\n",
       "      <td>...</td>\n",
       "      <td>...</td>\n",
       "      <td>...</td>\n",
       "      <td>...</td>\n",
       "      <td>...</td>\n",
       "      <td>...</td>\n",
       "      <td>...</td>\n",
       "      <td>...</td>\n",
       "      <td>...</td>\n",
       "      <td>...</td>\n",
       "      <td>...</td>\n",
       "      <td>...</td>\n",
       "      <td>...</td>\n",
       "      <td>...</td>\n",
       "    </tr>\n",
       "    <tr>\n",
       "      <th>55795</th>\n",
       "      <td>154</td>\n",
       "      <td>Dec-31</td>\n",
       "      <td>14:25</td>\n",
       "      <td>358.4020</td>\n",
       "      <td>338.925</td>\n",
       "      <td>207.53615</td>\n",
       "      <td>5.9950</td>\n",
       "      <td>-0.0470</td>\n",
       "      <td>-8.9470</td>\n",
       "      <td>30.470</td>\n",
       "      <td>54.0</td>\n",
       "      <td>1.45</td>\n",
       "      <td>18.52</td>\n",
       "      <td>811.496</td>\n",
       "      <td>0.0</td>\n",
       "      <td>2.779</td>\n",
       "      <td>0.0</td>\n",
       "      <td>0.3348</td>\n",
       "    </tr>\n",
       "    <tr>\n",
       "      <th>55796</th>\n",
       "      <td>154</td>\n",
       "      <td>Dec-31</td>\n",
       "      <td>14:26</td>\n",
       "      <td>375.2150</td>\n",
       "      <td>445.022</td>\n",
       "      <td>207.76500</td>\n",
       "      <td>5.9300</td>\n",
       "      <td>-0.1990</td>\n",
       "      <td>-9.4990</td>\n",
       "      <td>29.150</td>\n",
       "      <td>51.0</td>\n",
       "      <td>1.45</td>\n",
       "      <td>16.65</td>\n",
       "      <td>811.486</td>\n",
       "      <td>0.0</td>\n",
       "      <td>2.809</td>\n",
       "      <td>0.0</td>\n",
       "      <td>0.3322</td>\n",
       "    </tr>\n",
       "    <tr>\n",
       "      <th>55797</th>\n",
       "      <td>154</td>\n",
       "      <td>Dec-31</td>\n",
       "      <td>14:27</td>\n",
       "      <td>422.8910</td>\n",
       "      <td>645.908</td>\n",
       "      <td>207.99338</td>\n",
       "      <td>5.8570</td>\n",
       "      <td>-0.2990</td>\n",
       "      <td>-9.5990</td>\n",
       "      <td>29.040</td>\n",
       "      <td>48.0</td>\n",
       "      <td>1.20</td>\n",
       "      <td>12.84</td>\n",
       "      <td>811.481</td>\n",
       "      <td>0.0</td>\n",
       "      <td>2.825</td>\n",
       "      <td>0.0</td>\n",
       "      <td>0.3428</td>\n",
       "    </tr>\n",
       "    <tr>\n",
       "      <th>55798</th>\n",
       "      <td>154</td>\n",
       "      <td>Dec-31</td>\n",
       "      <td>14:28</td>\n",
       "      <td>476.0710</td>\n",
       "      <td>831.800</td>\n",
       "      <td>208.22132</td>\n",
       "      <td>5.8090</td>\n",
       "      <td>-0.1460</td>\n",
       "      <td>-8.9460</td>\n",
       "      <td>30.870</td>\n",
       "      <td>47.0</td>\n",
       "      <td>1.20</td>\n",
       "      <td>11.94</td>\n",
       "      <td>811.462</td>\n",
       "      <td>0.0</td>\n",
       "      <td>2.826</td>\n",
       "      <td>0.0</td>\n",
       "      <td>0.3337</td>\n",
       "    </tr>\n",
       "    <tr>\n",
       "      <th>55799</th>\n",
       "      <td>154</td>\n",
       "      <td>Dec-31</td>\n",
       "      <td>14:29</td>\n",
       "      <td>419.6360</td>\n",
       "      <td>751.389</td>\n",
       "      <td>208.44880</td>\n",
       "      <td>5.8630</td>\n",
       "      <td>-0.0720</td>\n",
       "      <td>-8.7720</td>\n",
       "      <td>31.230</td>\n",
       "      <td>42.0</td>\n",
       "      <td>0.95</td>\n",
       "      <td>34.33</td>\n",
       "      <td>811.448</td>\n",
       "      <td>0.0</td>\n",
       "      <td>2.900</td>\n",
       "      <td>0.0</td>\n",
       "      <td>0.3431</td>\n",
       "    </tr>\n",
       "  </tbody>\n",
       "</table>\n",
       "<p>55800 rows × 18 columns</p>\n",
       "</div>"
      ],
      "text/plain": [
       "       scenario_set DATE (MM/DD)    MST  Global CMP22 (vent/cor) [W/m^2]  \\\n",
       "0                 0        1-Dec   7:50                          54.3644   \n",
       "1                 0        1-Dec   7:51                          56.6827   \n",
       "2                 0        1-Dec   7:52                          57.8298   \n",
       "3                 0        1-Dec   7:53                          58.9769   \n",
       "4                 0        1-Dec   7:54                          61.2684   \n",
       "...             ...          ...    ...                              ...   \n",
       "55795           154       Dec-31  14:25                         358.4020   \n",
       "55796           154       Dec-31  14:26                         375.2150   \n",
       "55797           154       Dec-31  14:27                         422.8910   \n",
       "55798           154       Dec-31  14:28                         476.0710   \n",
       "55799           154       Dec-31  14:29                         419.6360   \n",
       "\n",
       "       Direct sNIP [W/m^2]  Azimuth Angle [degrees]  \\\n",
       "0                  464.075                122.61168   \n",
       "1                  472.765                122.77874   \n",
       "2                  477.189                122.86244   \n",
       "3                  481.613                122.94614   \n",
       "4                  489.245                123.11386   \n",
       "...                    ...                      ...   \n",
       "55795              338.925                207.53615   \n",
       "55796              445.022                207.76500   \n",
       "55797              645.908                207.99338   \n",
       "55798              831.800                208.22132   \n",
       "55799              751.389                208.44880   \n",
       "\n",
       "       Tower Dry Bulb Temp [deg C]  Tower Wet Bulb Temp [deg C]  \\\n",
       "0                          -0.7910                      -5.3070   \n",
       "1                          -0.6920                      -5.1580   \n",
       "2                          -0.6315                      -5.1465   \n",
       "3                          -0.5710                      -5.1350   \n",
       "4                          -0.4860                      -5.1240   \n",
       "...                            ...                          ...   \n",
       "55795                       5.9950                      -0.0470   \n",
       "55796                       5.9300                      -0.1990   \n",
       "55797                       5.8570                      -0.2990   \n",
       "55798                       5.8090                      -0.1460   \n",
       "55799                       5.8630                      -0.0720   \n",
       "\n",
       "       Tower Dew Point Temp [deg C]  Tower RH [%]  Total Cloud Cover [%]  \\\n",
       "0                          -15.6070        27.230                    3.0   \n",
       "1                          -15.6580        26.880                    2.0   \n",
       "2                          -15.6465        26.775                    2.0   \n",
       "3                          -15.6350        26.670                    2.0   \n",
       "4                          -15.6240        26.510                    2.0   \n",
       "...                             ...           ...                    ...   \n",
       "55795                       -8.9470        30.470                   54.0   \n",
       "55796                       -9.4990        29.150                   51.0   \n",
       "55797                       -9.5990        29.040                   48.0   \n",
       "55798                       -8.9460        30.870                   47.0   \n",
       "55799                       -8.7720        31.230                   42.0   \n",
       "\n",
       "       Peak Wind Speed @ 6ft [m/s]  Avg Wind Direction @ 6ft [deg from N]  \\\n",
       "0                             0.95                                 243.70   \n",
       "1                             0.00                                   0.00   \n",
       "2                             0.00                                   0.00   \n",
       "3                             0.00                                   0.00   \n",
       "4                             0.00                                   0.00   \n",
       "...                            ...                                    ...   \n",
       "55795                         1.45                                  18.52   \n",
       "55796                         1.45                                  16.65   \n",
       "55797                         1.20                                  12.84   \n",
       "55798                         1.20                                  11.94   \n",
       "55799                         0.95                                  34.33   \n",
       "\n",
       "       Station Pressure [mBar]  Precipitation (Accumulated) [mm]  \\\n",
       "0                      810.312                               0.0   \n",
       "1                      810.301                               0.0   \n",
       "2                      810.295                               0.0   \n",
       "3                      810.289                               0.0   \n",
       "4                      810.307                               0.0   \n",
       "...                        ...                               ...   \n",
       "55795                  811.496                               0.0   \n",
       "55796                  811.486                               0.0   \n",
       "55797                  811.481                               0.0   \n",
       "55798                  811.462                               0.0   \n",
       "55799                  811.448                               0.0   \n",
       "\n",
       "       Snow Depth [cm]  Moisture  Albedo (CMP11)  \n",
       "0                0.080       0.0          0.4190  \n",
       "1                0.051       0.0          0.4066  \n",
       "2                0.034       0.0          0.3995  \n",
       "3                0.017       0.0          0.3924  \n",
       "4               -0.003       0.0          0.3778  \n",
       "...                ...       ...             ...  \n",
       "55795            2.779       0.0          0.3348  \n",
       "55796            2.809       0.0          0.3322  \n",
       "55797            2.825       0.0          0.3428  \n",
       "55798            2.826       0.0          0.3337  \n",
       "55799            2.900       0.0          0.3431  \n",
       "\n",
       "[55800 rows x 18 columns]"
      ]
     },
     "execution_count": 72,
     "metadata": {},
     "output_type": "execute_result"
    }
   ],
   "source": [
    "df = pd.read_csv('CCD_test.csv', index_col=0)\n",
    "df"
   ]
  },
  {
   "cell_type": "code",
   "execution_count": 73,
   "metadata": {},
   "outputs": [
    {
     "name": "stdout",
     "output_type": "stream",
     "text": [
      "<class 'pandas.core.frame.DataFrame'>\n",
      "Int64Index: 55800 entries, 0 to 55799\n",
      "Data columns (total 18 columns):\n",
      " #   Column                                 Non-Null Count  Dtype  \n",
      "---  ------                                 --------------  -----  \n",
      " 0   scenario_set                           55800 non-null  int64  \n",
      " 1   DATE (MM/DD)                           55800 non-null  object \n",
      " 2   MST                                    55800 non-null  object \n",
      " 3   Global CMP22 (vent/cor) [W/m^2]        55800 non-null  float64\n",
      " 4   Direct sNIP [W/m^2]                    55800 non-null  float64\n",
      " 5   Azimuth Angle [degrees]                55800 non-null  float64\n",
      " 6   Tower Dry Bulb Temp [deg C]            55800 non-null  float64\n",
      " 7   Tower Wet Bulb Temp [deg C]            55800 non-null  float64\n",
      " 8   Tower Dew Point Temp [deg C]           55800 non-null  float64\n",
      " 9   Tower RH [%]                           55800 non-null  float64\n",
      " 10  Total Cloud Cover [%]                  55800 non-null  float64\n",
      " 11  Peak Wind Speed @ 6ft [m/s]            55800 non-null  float64\n",
      " 12  Avg Wind Direction @ 6ft [deg from N]  55800 non-null  float64\n",
      " 13  Station Pressure [mBar]                55800 non-null  float64\n",
      " 14  Precipitation (Accumulated) [mm]       55800 non-null  float64\n",
      " 15  Snow Depth [cm]                        55800 non-null  float64\n",
      " 16  Moisture                               55800 non-null  float64\n",
      " 17  Albedo (CMP11)                         55800 non-null  float64\n",
      "dtypes: float64(15), int64(1), object(2)\n",
      "memory usage: 8.1+ MB\n"
     ]
    }
   ],
   "source": [
    "df.info()"
   ]
  },
  {
   "cell_type": "code",
   "execution_count": 74,
   "metadata": {},
   "outputs": [],
   "source": [
    "def get_wind_direction(degrees):\n",
    "    if degrees >= 337.5 or degrees < 22.5:\n",
    "        return 'North'\n",
    "    elif 22.5 <= degrees < 67.5:\n",
    "        return 'North-East'\n",
    "    elif 67.5 <= degrees < 112.5:\n",
    "        return 'East'\n",
    "    elif 112.5 <= degrees < 157.5:\n",
    "        return 'South-East'\n",
    "    elif 157.5 <= degrees < 202.5:\n",
    "        return 'South'\n",
    "    elif 202.5 <= degrees < 247.5:\n",
    "        return 'South-West'\n",
    "    elif 247.5 <= degrees < 292.5:\n",
    "        return 'West'\n",
    "    elif 292.5 <= degrees < 337.5:\n",
    "        return 'North-West'"
   ]
  },
  {
   "cell_type": "code",
   "execution_count": 75,
   "metadata": {},
   "outputs": [],
   "source": [
    "df['Wind Direction'] = df['Avg Wind Direction @ 6ft [deg from N]'].apply(get_wind_direction)\n",
    "\n",
    "df['Wind Direction'] = df['Wind Direction'].map({'North': 0, 'North-East': 1, 'East': 2, 'South-East': 3, 'South': 4, 'South-West': 5, 'West': 6, 'North-West': 7})"
   ]
  },
  {
   "cell_type": "code",
   "execution_count": 76,
   "metadata": {},
   "outputs": [
    {
     "name": "stderr",
     "output_type": "stream",
     "text": [
      "C:\\Users\\vansh\\AppData\\Local\\Temp\\ipykernel_1876\\3887619049.py:1: FutureWarning: The default dtype for empty Series will be 'object' instead of 'float64' in a future version. Specify a dtype explicitly to silence this warning.\n",
      "  ser = pd.Series()\n"
     ]
    }
   ],
   "source": [
    "ser = pd.Series()\n",
    "\n",
    "for i in df['scenario_set'].unique():\n",
    "    group = df.groupby('scenario_set').get_group(i)['Peak Wind Speed @ 6ft [m/s]']\n",
    "    arr = group.rolling(window=5).mean()\n",
    "\n",
    "    for i in range(5):\n",
    "        arr.iloc[i] = group.iloc[:i+1].mean()\n",
    "\n",
    "    ser = pd.concat([ser, arr])\n",
    "\n",
    "df['Avg. Wind Speed'] = ser"
   ]
  },
  {
   "cell_type": "code",
   "execution_count": 77,
   "metadata": {},
   "outputs": [
    {
     "name": "stderr",
     "output_type": "stream",
     "text": [
      "C:\\Users\\vansh\\AppData\\Local\\Temp\\ipykernel_1876\\1616234150.py:1: FutureWarning: The default dtype for empty Series will be 'object' instead of 'float64' in a future version. Specify a dtype explicitly to silence this warning.\n",
      "  ser = pd.Series()\n"
     ]
    }
   ],
   "source": [
    "ser = pd.Series()\n",
    "\n",
    "for i in range(155):\n",
    "    group = df.groupby('scenario_set').get_group(i)['Tower Dew Point Temp [deg C]']\n",
    "    arr = group.rolling(window=60).mean()\n",
    "\n",
    "    for i in range(60):\n",
    "        arr.iloc[i] = group.iloc[:i+1].mean()\n",
    "\n",
    "    ser = pd.concat([ser, arr])\n",
    "\n",
    "df['Avg. Tower Temp'] = ser"
   ]
  },
  {
   "cell_type": "code",
   "execution_count": 78,
   "metadata": {},
   "outputs": [],
   "source": [
    "df['Humidity_Temp_Interaction'] = df['Tower RH [%]'] * df['Tower Dry Bulb Temp [deg C]']"
   ]
  },
  {
   "cell_type": "code",
   "execution_count": 79,
   "metadata": {},
   "outputs": [],
   "source": [
    "R = 287.058\n",
    "df['Air_Density'] = (df['Station Pressure [mBar]'] * 100) / (R * (df['Tower Dry Bulb Temp [deg C]'] + 273.15))"
   ]
  },
  {
   "cell_type": "code",
   "execution_count": 80,
   "metadata": {},
   "outputs": [],
   "source": [
    "df['Saturation_Vapor_Pressure'] = 6.11 * 10 ** ((7.5 * df['Tower Dry Bulb Temp [deg C]']) / (237.3 + df['Tower Dry Bulb Temp [deg C]']))"
   ]
  },
  {
   "cell_type": "code",
   "execution_count": 81,
   "metadata": {},
   "outputs": [],
   "source": [
    "df['Vapor_Pressure'] = (df['Tower RH [%]'] / 100) * df['Saturation_Vapor_Pressure']"
   ]
  },
  {
   "cell_type": "code",
   "execution_count": 82,
   "metadata": {},
   "outputs": [
    {
     "data": {
      "text/plain": [
       "['Global CMP22 (vent/cor) [W/m^2]',\n",
       " 'Direct sNIP [W/m^2]',\n",
       " 'Azimuth Angle [degrees]',\n",
       " 'Tower Dry Bulb Temp [deg C]',\n",
       " 'Tower Wet Bulb Temp [deg C]',\n",
       " 'Tower Dew Point Temp [deg C]',\n",
       " 'Tower RH [%]',\n",
       " 'Total Cloud Cover [%]',\n",
       " 'Peak Wind Speed @ 6ft [m/s]',\n",
       " 'Avg Wind Direction @ 6ft [deg from N]',\n",
       " 'Station Pressure [mBar]',\n",
       " 'Precipitation (Accumulated) [mm]',\n",
       " 'Snow Depth [cm]',\n",
       " 'Moisture',\n",
       " 'Albedo (CMP11)',\n",
       " 'Wind Direction',\n",
       " 'Avg. Wind Speed',\n",
       " 'Avg. Tower Temp',\n",
       " 'Humidity_Temp_Interaction',\n",
       " 'Air_Density',\n",
       " 'Saturation_Vapor_Pressure',\n",
       " 'Vapor_Pressure']"
      ]
     },
     "execution_count": 82,
     "metadata": {},
     "output_type": "execute_result"
    }
   ],
   "source": [
    "cols = ['DATE (MM/DD)', 'MST', 'scenario_set']\n",
    "\n",
    "col_train = df.drop(cols, axis=1).columns.tolist()\n",
    "col_train"
   ]
  },
  {
   "cell_type": "code",
   "execution_count": 107,
   "metadata": {},
   "outputs": [],
   "source": [
    "scaler = MinMaxScaler()\n",
    "scaled_features = scaler.fit_transform(df[col_train])"
   ]
  },
  {
   "cell_type": "code",
   "execution_count": 112,
   "metadata": {},
   "outputs": [
    {
     "data": {
      "text/plain": [
       "(155, 120, 22)"
      ]
     },
     "execution_count": 112,
     "metadata": {},
     "output_type": "execute_result"
    }
   ],
   "source": [
    "x = []\n",
    "\n",
    "for i in range(0, len(scaled_features), 360):\n",
    "    x.append(scaled_features[240+i:360+i, :])\n",
    "\n",
    "x = np.asarray(x)\n",
    "x.shape"
   ]
  },
  {
   "cell_type": "code",
   "execution_count": 84,
   "metadata": {},
   "outputs": [],
   "source": [
    "gru_lstm = load_model('models/gru_lstm_v3.h5', compile=False)"
   ]
  },
  {
   "cell_type": "code",
   "execution_count": 85,
   "metadata": {},
   "outputs": [],
   "source": [
    "tdnn = load_model('models/tdnn_v3.h5', compile=False)"
   ]
  },
  {
   "cell_type": "code",
   "execution_count": 86,
   "metadata": {},
   "outputs": [],
   "source": [
    "transformer = load_model('models/transformer_v2.keras', compile=False)"
   ]
  },
  {
   "cell_type": "code",
   "execution_count": 113,
   "metadata": {},
   "outputs": [
    {
     "name": "stdout",
     "output_type": "stream",
     "text": [
      "\u001b[1m5/5\u001b[0m \u001b[32m━━━━━━━━━━━━━━━━━━━━\u001b[0m\u001b[37m\u001b[0m \u001b[1m2s\u001b[0m 171ms/step\n"
     ]
    }
   ],
   "source": [
    "gru_lstm_pred = gru_lstm.predict(x)"
   ]
  },
  {
   "cell_type": "code",
   "execution_count": 114,
   "metadata": {},
   "outputs": [
    {
     "name": "stdout",
     "output_type": "stream",
     "text": [
      "\u001b[1m5/5\u001b[0m \u001b[32m━━━━━━━━━━━━━━━━━━━━\u001b[0m\u001b[37m\u001b[0m \u001b[1m0s\u001b[0m 37ms/step\n"
     ]
    }
   ],
   "source": [
    "tdnn_pred = tdnn.predict(x)"
   ]
  },
  {
   "cell_type": "code",
   "execution_count": 115,
   "metadata": {},
   "outputs": [
    {
     "name": "stdout",
     "output_type": "stream",
     "text": [
      "WARNING:tensorflow:5 out of the last 11 calls to <function TensorFlowTrainer.make_predict_function.<locals>.one_step_on_data_distributed at 0x000002275C627010> triggered tf.function retracing. Tracing is expensive and the excessive number of tracings could be due to (1) creating @tf.function repeatedly in a loop, (2) passing tensors with different shapes, (3) passing Python objects instead of tensors. For (1), please define your @tf.function outside of the loop. For (2), @tf.function has reduce_retracing=True option that can avoid unnecessary retracing. For (3), please refer to https://www.tensorflow.org/guide/function#controlling_retracing and https://www.tensorflow.org/api_docs/python/tf/function for  more details.\n",
      "\u001b[1m4/5\u001b[0m \u001b[32m━━━━━━━━━━━━━━━━\u001b[0m\u001b[37m━━━━\u001b[0m \u001b[1m0s\u001b[0m 98ms/stepWARNING:tensorflow:5 out of the last 11 calls to <function TensorFlowTrainer.make_predict_function.<locals>.one_step_on_data_distributed at 0x000002275C627010> triggered tf.function retracing. Tracing is expensive and the excessive number of tracings could be due to (1) creating @tf.function repeatedly in a loop, (2) passing tensors with different shapes, (3) passing Python objects instead of tensors. For (1), please define your @tf.function outside of the loop. For (2), @tf.function has reduce_retracing=True option that can avoid unnecessary retracing. For (3), please refer to https://www.tensorflow.org/guide/function#controlling_retracing and https://www.tensorflow.org/api_docs/python/tf/function for  more details.\n",
      "\u001b[1m5/5\u001b[0m \u001b[32m━━━━━━━━━━━━━━━━━━━━\u001b[0m\u001b[37m\u001b[0m \u001b[1m1s\u001b[0m 143ms/step\n"
     ]
    }
   ],
   "source": [
    "transformer_pred = transformer.predict(x)"
   ]
  },
  {
   "cell_type": "code",
   "execution_count": 116,
   "metadata": {},
   "outputs": [],
   "source": [
    "preds = (0.5*gru_lstm_pred + 0.3*tdnn_pred + 0.2*transformer_pred)"
   ]
  },
  {
   "cell_type": "code",
   "execution_count": 117,
   "metadata": {},
   "outputs": [
    {
     "data": {
      "text/plain": [
       "(155, 3)"
      ]
     },
     "execution_count": 117,
     "metadata": {},
     "output_type": "execute_result"
    }
   ],
   "source": [
    "preds.shape"
   ]
  },
  {
   "cell_type": "code",
   "execution_count": 118,
   "metadata": {},
   "outputs": [],
   "source": [
    "out = pd.DataFrame({'scenario_set': df['scenario_set'].unique(), '15': preds[:, 0], '25': preds[:, 1], '30': preds[:, 2]})"
   ]
  },
  {
   "cell_type": "code",
   "execution_count": 120,
   "metadata": {},
   "outputs": [],
   "source": [
    "out.to_csv('submission.csv', index=False)"
   ]
  },
  {
   "cell_type": "code",
   "execution_count": null,
   "metadata": {},
   "outputs": [],
   "source": []
  }
 ],
 "metadata": {
  "kernelspec": {
   "display_name": "Python 3",
   "language": "python",
   "name": "python3"
  },
  "language_info": {
   "codemirror_mode": {
    "name": "ipython",
    "version": 3
   },
   "file_extension": ".py",
   "mimetype": "text/x-python",
   "name": "python",
   "nbconvert_exporter": "python",
   "pygments_lexer": "ipython3",
   "version": "3.10.2"
  }
 },
 "nbformat": 4,
 "nbformat_minor": 2
}
